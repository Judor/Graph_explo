{
 "cells": [
  {
   "cell_type": "code",
   "execution_count": 141,
   "metadata": {
    "collapsed": true
   },
   "outputs": [],
   "source": [
    "import pandas as pd"
   ]
  },
  {
   "cell_type": "markdown",
   "metadata": {},
   "source": [
    "Let's import our dataset from the csv file and print it"
   ]
  },
  {
   "cell_type": "code",
   "execution_count": 142,
   "metadata": {
    "pycharm": {
     "name": "#%%\n"
    }
   },
   "outputs": [
    {
     "data": {
      "text/html": [
       "<div>\n",
       "<style scoped>\n",
       "    .dataframe tbody tr th:only-of-type {\n",
       "        vertical-align: middle;\n",
       "    }\n",
       "\n",
       "    .dataframe tbody tr th {\n",
       "        vertical-align: top;\n",
       "    }\n",
       "\n",
       "    .dataframe thead th {\n",
       "        text-align: right;\n",
       "    }\n",
       "</style>\n",
       "<table border=\"1\" class=\"dataframe\">\n",
       "  <thead>\n",
       "    <tr style=\"text-align: right;\">\n",
       "      <th></th>\n",
       "      <th>noeud_amont</th>\n",
       "      <th>noeud_aval</th>\n",
       "      <th>type_aretes</th>\n",
       "    </tr>\n",
       "  </thead>\n",
       "  <tbody>\n",
       "    <tr>\n",
       "      <th>0</th>\n",
       "      <td>sommet_15</td>\n",
       "      <td>sommet_95</td>\n",
       "      <td>chemin</td>\n",
       "    </tr>\n",
       "    <tr>\n",
       "      <th>1</th>\n",
       "      <td>sommet_45</td>\n",
       "      <td>sommet_38</td>\n",
       "      <td>chemin</td>\n",
       "    </tr>\n",
       "    <tr>\n",
       "      <th>2</th>\n",
       "      <td>sommet_28</td>\n",
       "      <td>sommet_72</td>\n",
       "      <td>arrivee</td>\n",
       "    </tr>\n",
       "    <tr>\n",
       "      <th>3</th>\n",
       "      <td>sommet_2</td>\n",
       "      <td>sommet_65</td>\n",
       "      <td>chemin</td>\n",
       "    </tr>\n",
       "    <tr>\n",
       "      <th>4</th>\n",
       "      <td>sommet_98</td>\n",
       "      <td>sommet_18</td>\n",
       "      <td>chemin</td>\n",
       "    </tr>\n",
       "    <tr>\n",
       "      <th>...</th>\n",
       "      <td>...</td>\n",
       "      <td>...</td>\n",
       "      <td>...</td>\n",
       "    </tr>\n",
       "    <tr>\n",
       "      <th>85</th>\n",
       "      <td>sommet_21</td>\n",
       "      <td>sommet_29</td>\n",
       "      <td>chemin</td>\n",
       "    </tr>\n",
       "    <tr>\n",
       "      <th>86</th>\n",
       "      <td>sommet_70</td>\n",
       "      <td>sommet_15</td>\n",
       "      <td>chemin</td>\n",
       "    </tr>\n",
       "    <tr>\n",
       "      <th>87</th>\n",
       "      <td>sommet_13</td>\n",
       "      <td>sommet_75</td>\n",
       "      <td>chemin</td>\n",
       "    </tr>\n",
       "    <tr>\n",
       "      <th>88</th>\n",
       "      <td>sommet_0</td>\n",
       "      <td>sommet_4</td>\n",
       "      <td>chemin</td>\n",
       "    </tr>\n",
       "    <tr>\n",
       "      <th>89</th>\n",
       "      <td>sommet_95</td>\n",
       "      <td>sommet_8</td>\n",
       "      <td>chemin</td>\n",
       "    </tr>\n",
       "  </tbody>\n",
       "</table>\n",
       "<p>90 rows × 3 columns</p>\n",
       "</div>"
      ],
      "text/plain": [
       "   noeud_amont noeud_aval type_aretes\n",
       "0    sommet_15  sommet_95      chemin\n",
       "1    sommet_45  sommet_38      chemin\n",
       "2    sommet_28  sommet_72     arrivee\n",
       "3     sommet_2  sommet_65      chemin\n",
       "4    sommet_98  sommet_18      chemin\n",
       "..         ...        ...         ...\n",
       "85   sommet_21  sommet_29      chemin\n",
       "86   sommet_70  sommet_15      chemin\n",
       "87   sommet_13  sommet_75      chemin\n",
       "88    sommet_0   sommet_4      chemin\n",
       "89   sommet_95   sommet_8      chemin\n",
       "\n",
       "[90 rows x 3 columns]"
      ]
     },
     "execution_count": 142,
     "metadata": {},
     "output_type": "execute_result"
    }
   ],
   "source": [
    "df = pd.read_csv('probleme_graphe.csv');df"
   ]
  },
  {
   "cell_type": "markdown",
   "metadata": {},
   "source": [
    "We create a DataFrame counting only the starting nodes. Each row corresponds to a traveler"
   ]
  },
  {
   "cell_type": "code",
   "execution_count": 143,
   "metadata": {
    "pycharm": {
     "name": "#%%\n"
    }
   },
   "outputs": [
    {
     "data": {
      "text/html": [
       "<div>\n",
       "<style scoped>\n",
       "    .dataframe tbody tr th:only-of-type {\n",
       "        vertical-align: middle;\n",
       "    }\n",
       "\n",
       "    .dataframe tbody tr th {\n",
       "        vertical-align: top;\n",
       "    }\n",
       "\n",
       "    .dataframe thead th {\n",
       "        text-align: right;\n",
       "    }\n",
       "</style>\n",
       "<table border=\"1\" class=\"dataframe\">\n",
       "  <thead>\n",
       "    <tr style=\"text-align: right;\">\n",
       "      <th></th>\n",
       "      <th>noeud_amont</th>\n",
       "      <th>noeud_aval</th>\n",
       "      <th>type_aretes</th>\n",
       "    </tr>\n",
       "  </thead>\n",
       "  <tbody>\n",
       "    <tr>\n",
       "      <th>6</th>\n",
       "      <td>sommet_33</td>\n",
       "      <td>sommet_90</td>\n",
       "      <td>depart</td>\n",
       "    </tr>\n",
       "    <tr>\n",
       "      <th>23</th>\n",
       "      <td>sommet_59</td>\n",
       "      <td>sommet_49</td>\n",
       "      <td>depart</td>\n",
       "    </tr>\n",
       "    <tr>\n",
       "      <th>26</th>\n",
       "      <td>sommet_91</td>\n",
       "      <td>sommet_77</td>\n",
       "      <td>depart</td>\n",
       "    </tr>\n",
       "    <tr>\n",
       "      <th>27</th>\n",
       "      <td>sommet_56</td>\n",
       "      <td>sommet_39</td>\n",
       "      <td>depart</td>\n",
       "    </tr>\n",
       "    <tr>\n",
       "      <th>28</th>\n",
       "      <td>sommet_50</td>\n",
       "      <td>sommet_96</td>\n",
       "      <td>depart</td>\n",
       "    </tr>\n",
       "    <tr>\n",
       "      <th>34</th>\n",
       "      <td>sommet_14</td>\n",
       "      <td>sommet_58</td>\n",
       "      <td>depart</td>\n",
       "    </tr>\n",
       "    <tr>\n",
       "      <th>37</th>\n",
       "      <td>sommet_31</td>\n",
       "      <td>sommet_24</td>\n",
       "      <td>depart</td>\n",
       "    </tr>\n",
       "    <tr>\n",
       "      <th>41</th>\n",
       "      <td>sommet_34</td>\n",
       "      <td>sommet_17</td>\n",
       "      <td>depart</td>\n",
       "    </tr>\n",
       "    <tr>\n",
       "      <th>44</th>\n",
       "      <td>sommet_36</td>\n",
       "      <td>sommet_82</td>\n",
       "      <td>depart</td>\n",
       "    </tr>\n",
       "    <tr>\n",
       "      <th>68</th>\n",
       "      <td>sommet_84</td>\n",
       "      <td>sommet_81</td>\n",
       "      <td>depart</td>\n",
       "    </tr>\n",
       "  </tbody>\n",
       "</table>\n",
       "</div>"
      ],
      "text/plain": [
       "   noeud_amont noeud_aval type_aretes\n",
       "6    sommet_33  sommet_90      depart\n",
       "23   sommet_59  sommet_49      depart\n",
       "26   sommet_91  sommet_77      depart\n",
       "27   sommet_56  sommet_39      depart\n",
       "28   sommet_50  sommet_96      depart\n",
       "34   sommet_14  sommet_58      depart\n",
       "37   sommet_31  sommet_24      depart\n",
       "41   sommet_34  sommet_17      depart\n",
       "44   sommet_36  sommet_82      depart\n",
       "68   sommet_84  sommet_81      depart"
      ]
     },
     "execution_count": 143,
     "metadata": {},
     "output_type": "execute_result"
    }
   ],
   "source": [
    "df_starting_points = df[df['type_aretes'] == 'depart'];df_starting_points"
   ]
  },
  {
   "cell_type": "markdown",
   "metadata": {},
   "source": [
    "Our first function is made to return the type of the node. It's a string with only 3 possibilities : 'depart' / 'chemin' / 'arrivee'"
   ]
  },
  {
   "cell_type": "code",
   "execution_count": 144,
   "metadata": {
    "pycharm": {
     "name": "#%%\n"
    }
   },
   "outputs": [],
   "source": [
    "def find_type_noeud(df, noeud) :\n",
    "    return df[df['noeud_amont'] == noeud]['type_aretes'].iloc[0]"
   ]
  },
  {
   "cell_type": "markdown",
   "metadata": {},
   "source": [
    "Our second function is made to return the node at the upper level that we currently have. The node that comes next. It will return a string like 'sommet_XX', with XX the number of the node"
   ]
  },
  {
   "cell_type": "code",
   "execution_count": 145,
   "metadata": {
    "pycharm": {
     "name": "#%%\n"
    }
   },
   "outputs": [],
   "source": [
    "def find_upper_node(df, sommet_amont):\n",
    "    return df[df['noeud_amont'] == sommet_amont]['noeud_aval'].iloc[0]"
   ]
  },
  {
   "cell_type": "markdown",
   "metadata": {},
   "source": [
    "Here is our main function. For each entry in the starting point dataframe, we have one itinerary to compute.\n",
    "Each itinerary have at least a starting point and an arrival.\n",
    "While the computed node is not the arrival node, we add this node to the list, and choose the upper node using the 'find_upper_node' function\n",
    "When we are at the final node, we add it to the list, and we return the list of the nodes took by the traveler."
   ]
  },
  {
   "cell_type": "code",
   "execution_count": 146,
   "metadata": {
    "pycharm": {
     "name": "#%%\n"
    }
   },
   "outputs": [],
   "source": [
    "def compute_itinerary():\n",
    "    for i in range(df_starting_points.shape[0]):\n",
    "        node = df_starting_points['noeud_amont'].iloc[i]\n",
    "        node_list = [node]\n",
    "        while find_type_noeud(df, node) != 'arrivee':\n",
    "            node_list.append(node)\n",
    "            node = find_upper_node(df,node)\n",
    "        node = find_upper_node(df,node)\n",
    "        node_list.append(node)\n",
    "        print(node_list)"
   ]
  },
  {
   "cell_type": "markdown",
   "metadata": {
    "pycharm": {
     "name": "#%% md\n"
    }
   },
   "source": [
    "And there is the final list of the itineraries took by the travelers"
   ]
  },
  {
   "cell_type": "code",
   "execution_count": 147,
   "metadata": {
    "pycharm": {
     "name": "#%%\n"
    }
   },
   "outputs": [
    {
     "name": "stdout",
     "output_type": "stream",
     "text": [
      "['sommet_33', 'sommet_33', 'sommet_90', 'sommet_68', 'sommet_5', 'sommet_42', 'sommet_41', 'sommet_93', 'sommet_44', 'sommet_6']\n",
      "['sommet_59', 'sommet_59', 'sommet_49', 'sommet_2', 'sommet_65', 'sommet_94', 'sommet_16', 'sommet_85', 'sommet_54', 'sommet_64']\n",
      "['sommet_91', 'sommet_91', 'sommet_77', 'sommet_57', 'sommet_12', 'sommet_86', 'sommet_69', 'sommet_35', 'sommet_23', 'sommet_74']\n",
      "['sommet_56', 'sommet_56', 'sommet_39', 'sommet_98', 'sommet_18', 'sommet_83', 'sommet_87', 'sommet_20', 'sommet_45', 'sommet_88']\n",
      "['sommet_50', 'sommet_50', 'sommet_96', 'sommet_61', 'sommet_67', 'sommet_0', 'sommet_4', 'sommet_32', 'sommet_13', 'sommet_19']\n",
      "['sommet_14', 'sommet_14', 'sommet_58', 'sommet_78', 'sommet_27', 'sommet_21', 'sommet_29', 'sommet_30', 'sommet_73', 'sommet_25']\n",
      "['sommet_31', 'sommet_31', 'sommet_24', 'sommet_70', 'sommet_15', 'sommet_95', 'sommet_8', 'sommet_52', 'sommet_80', 'sommet_9']\n",
      "['sommet_34', 'sommet_34', 'sommet_17', 'sommet_43', 'sommet_76', 'sommet_22', 'sommet_48', 'sommet_55', 'sommet_60', 'sommet_66']\n",
      "['sommet_36', 'sommet_36', 'sommet_82', 'sommet_11', 'sommet_1', 'sommet_71', 'sommet_89', 'sommet_37', 'sommet_47', 'sommet_72']\n",
      "['sommet_84', 'sommet_84', 'sommet_81', 'sommet_26', 'sommet_10', 'sommet_100', 'sommet_46', 'sommet_51', 'sommet_63', 'sommet_99']\n"
     ]
    }
   ],
   "source": [
    "compute_itinerary()"
   ]
  }
 ],
 "metadata": {
  "kernelspec": {
   "display_name": "Python 3",
   "language": "python",
   "name": "python3"
  },
  "language_info": {
   "codemirror_mode": {
    "name": "ipython",
    "version": 3
   },
   "file_extension": ".py",
   "mimetype": "text/x-python",
   "name": "python",
   "nbconvert_exporter": "python",
   "pygments_lexer": "ipython3",
   "version": "3.8.8"
  }
 },
 "nbformat": 4,
 "nbformat_minor": 1
}